{
 "cells": [
  {
   "cell_type": "code",
   "execution_count": 1,
   "id": "0ed274af",
   "metadata": {},
   "outputs": [],
   "source": [
    "import pandas as pd\n",
    "import os"
   ]
  },
  {
   "cell_type": "code",
   "execution_count": 2,
   "id": "53b859c8",
   "metadata": {},
   "outputs": [],
   "source": [
    "GDP = pd.DataFrame(columns=['Date'])\n",
    "dir = os.path.dirname(os.getcwd())+ \"\\\\total_data\\\\GDP\\\\\"\n",
    "file_list = os.listdir(dir)\n",
    "for file in file_list:\n",
    "    data = pd.read_excel(dir + file, header = None)\n",
    "    data = data[[0,2]]\n",
    "    data.columns = [\"Date\", file[0:len(file)-5] + \"_GDP\"]\n",
    "    GDP = pd.merge(GDP, data, how='outer',on='Date')\n",
    "    \n",
    "Treasury_rate = pd.DataFrame(columns=['Date'])\n",
    "dir = os.path.dirname(os.getcwd())+ \"\\\\total_data\\\\국채금리\\\\\"\n",
    "file_list = os.listdir(dir)\n",
    "for file in file_list:\n",
    "    data = pd.read_csv(dir + file)\n",
    "    data.iloc[:,5] = data.iloc[:,5].apply(lambda x: x.replace(\"%\",\"\"))\n",
    "    data.iloc[:,5] = data.iloc[:,5].apply(lambda x: float(x.replace(\",\",\"\")))\n",
    "    data.columns = [\"Date\", file[0:len(file)-11] + \"_Price\", file[0:len(file)-11] + \"_Open\", file[0:len(file)-11] + \"_High\", file[0:len(file)-11] + \"_Low\", file[0:len(file)-11] + \"_Change\"]\n",
    "    Treasury_rate = pd.merge(Treasury_rate, data, how='outer',on='Date')\n",
    "    \n",
    "CPI = pd.DataFrame(columns=['Date'])\n",
    "dir = os.path.dirname(os.getcwd())+ \"\\\\total_data\\\\소비자물가지수\\\\\"\n",
    "file_list = os.listdir(dir)\n",
    "file_list\n",
    "\n",
    "for file in file_list:\n",
    "    data = pd.read_excel(dir + file, header = None)\n",
    "    data = data[[0,2]]\n",
    "    data.columns = [\"Date\", file[0:len(file)-5] + \"_CPI\"]\n",
    "    CPI = pd.merge(CPI, data, how='outer',on='Date')\n",
    "    \n",
    "CCI = pd.DataFrame(columns=['Date'])\n",
    "dir = os.path.dirname(os.getcwd())+ \"\\\\total_data\\\\소비자신뢰지수\\\\\"\n",
    "file_list = os.listdir(dir)\n",
    "for file in file_list:\n",
    "    data = pd.read_excel(dir + file, header = None)\n",
    "    data = data[[0,2]]\n",
    "    data.columns = [\"Date\", file[0:len(file)-5] + \"_CCI\"]\n",
    "    CCI = pd.merge(CCI, data, how='outer',on='Date')\n",
    "                         \n",
    "Unemployment_Rate = pd.DataFrame(columns=['Date'])\n",
    "dir = os.path.dirname(os.getcwd())+ \"\\\\total_data\\\\실업률\\\\\"\n",
    "file_list = os.listdir(dir)\n",
    "for file in file_list:\n",
    "    data = pd.read_excel(dir + file, header = None)\n",
    "    data = data[[0,2]]\n",
    "    data.columns = [\"Date\", file[0:len(file)-9] + \"_Unemploy\"]\n",
    "    Unemployment_Rate = pd.merge(Unemployment_Rate, data, how='outer',on='Date')"
   ]
  },
  {
   "cell_type": "code",
   "execution_count": 28,
   "id": "9a1c2792-dba7-4f5a-9c5e-cf3aed31db62",
   "metadata": {},
   "outputs": [
    {
     "data": {
      "text/plain": [
       "Date           2014-01-04\n",
       "중국 2년_Price           NaN\n",
       "Name: 2502, dtype: object"
      ]
     },
     "execution_count": 28,
     "metadata": {},
     "output_type": "execute_result"
    }
   ],
   "source": [
    "Treasury_rate[[\"Date\",\"중국 2년_Price\"]].iloc[Treasury_rate[\"중국 2년_Price\"].idxmin()-1]"
   ]
  },
  {
   "cell_type": "code",
   "execution_count": 3,
   "id": "6ea0bfb9-2abc-4aa2-81cc-60563667410d",
   "metadata": {},
   "outputs": [],
   "source": [
    "Exchange_Rate = pd.DataFrame(columns=['Date'])\n",
    "dir = os.path.dirname(os.getcwd())+ \"\\\\total_data\\\\환율\\\\\"\n",
    "file_list = os.listdir(dir)\n",
    "for file in file_list:\n",
    "    data = pd.read_csv(dir + file)\n",
    "    data.iloc[:,1] = data.iloc[:,1].apply(lambda x: float(x.replace(\",\",\"\") if type(x) == str else x))\n",
    "    data.iloc[:,2] = data.iloc[:,2].apply(lambda x: float(x.replace(\",\",\"\") if type(x) == str else x))\n",
    "    data.iloc[:,3] = data.iloc[:,3].apply(lambda x: float(x.replace(\",\",\"\") if type(x) == str else x))\n",
    "    data.iloc[:,4] = data.iloc[:,4].apply(lambda x: float(x.replace(\",\",\"\") if type(x) == str else x))\n",
    "    Exchange_Rate = pd.merge(Exchange_Rate, data, how='outer',on='Date')"
   ]
  },
  {
   "cell_type": "code",
   "execution_count": 20,
   "id": "24b21976-2254-4b17-886e-f9c311bdd24c",
   "metadata": {},
   "outputs": [
    {
     "data": {
      "text/plain": [
       "Index(['Date', 'CNY_KRW_Close', 'CNY_KRW_Open', 'CNY_KRW_High', 'CNY_KRW_Low',\n",
       "       'EUR_KRW_Close', 'EUR_KRW_Open', 'EUR_KRW_High', 'EUR_KRW_Low',\n",
       "       'GBP_KRW_Close', 'GBP_KRW_Open', 'GBP_KRW_High', 'GBP_KRW_Low',\n",
       "       'JPY_KRW_Close', 'JPY_KRW_Open', 'JPY_KRW_High', 'JPY_KRW_Low',\n",
       "       'USD_CNY_Close', 'USD_CNY_Open', 'USD_CNY_High', 'USD_CNY_Low',\n",
       "       'USD_EUR_Close', 'USD_EUR_Open', 'USD_EUR_High', 'USD_EUR_Low',\n",
       "       'USD_GBP_Close', 'USD_GBP_Open', 'USD_GBP_High', 'USD_GBP_Low',\n",
       "       'USD_JPY_Close', 'USD_JPY_Open', 'USD_JPY_High', 'USD_JPY_Low',\n",
       "       'USD_KRW_Close', 'USD_KRW_Open', 'USD_KRW_High', 'USD_KRW_Low'],\n",
       "      dtype='object')"
      ]
     },
     "execution_count": 20,
     "metadata": {},
     "output_type": "execute_result"
    }
   ],
   "source": [
    "Exchange_Rate.columns"
   ]
  },
  {
   "cell_type": "code",
   "execution_count": 4,
   "id": "5f8c7f65",
   "metadata": {},
   "outputs": [],
   "source": [
    "Stock_Price = pd.read_csv(os.path.dirname(os.getcwd())+ \"\\\\data\\\\유명 주가지수\\\\\"+\"유명주가지수 통합.csv\")"
   ]
  },
  {
   "cell_type": "code",
   "execution_count": 5,
   "id": "73e1fcdc-4d76-46fc-81ae-2a233ddf2d9f",
   "metadata": {},
   "outputs": [],
   "source": [
    "Stock_Price = Stock_Price.rename(columns={'날짜':'Date'})"
   ]
  },
  {
   "cell_type": "code",
   "execution_count": 6,
   "id": "6b0cc0c7-b98a-41c7-83b8-c4014cf01fe2",
   "metadata": {},
   "outputs": [],
   "source": [
    "Stock_Price.columns = ['Date', 'Germany_DAX_Close', 'Germany_DAX_Open', 'Germany_DAX_High', 'Germany_DAX_Low',\n",
    "               'Germany_MDAX_Close', 'Germany_MDAX_Open', 'Germany_MDAX_High', 'Germany_MDAX_Low', \n",
    "               'Germany_TecDAX_Close', 'Germany_TecDAX_Open', 'Germany_TecDAX_High', 'Germany_TecDAX_Low',\n",
    "               'USA_SP500_Close', 'USA_SP500_Open', 'USA_SP500_High', 'USA_SP500_Low',\n",
    "               'USA_NASDAQ_Close','USA_NASDAQ_Open', 'USA_NASDAQ_High', 'USA_NASDAQ_Low',\n",
    "               'USA_DOW_Close', 'USA_DOW_Open', 'USA_DOW_High', 'USA_DOW_Low',\n",
    "               'Euro_STOCKS50_Close', 'Euro_STOCKS50_Open', 'Euro_STOCKS50_High', 'Euro_STOCKS50_Low',\n",
    "               'Japan_JASDAQ20_Close', 'Japan_JASDAQ20_Open', 'Japan_JASDAQ20_High', 'Japan_JASDAQ20_Low',\n",
    "               'Japan_TOPIX_Close', 'Japan_TOPIX_Open', 'Japan_TOPIX_High', 'Japan_TOPIX_Low',\n",
    "               'Japan_NIKKEI_Close', 'Japan_NIKKEI_Open', 'Japan_NIKKEI_High', 'Japan_NIKKEI_Low',\n",
    "               'China_FTSE_Close', 'China_FTSE_Open', 'China_FTSE_High', 'China_FTSE_Low',\n",
    "               'China_SZSE_Close', 'China_SZSE_Open', 'China_SZSE_High', 'China_SZSE_Low',\n",
    "               'China_SANGHAI_Close', 'China_SANGHAI_Open', 'China_SANGHAI_High', 'China_SANGHAI_Low',\n",
    "               'France_CAC_Close', 'France_CAC_Open', 'France_CAC_High', 'France_CAC_Low',\n",
    "               'France_CACNEXT_Close', 'France_CACNEXT_Open', 'France_CACNEXT_High', 'France_CACNEXT_Low',\n",
    "               'France_SBF_Close', 'France_SBF_Open', 'France_SBF_High', 'France_SBF_Low',\n",
    "               'Korea_KOSDAQ_Close', 'Korea_KOSDAQ_Open', 'Korea_KOSDAQ_High', 'Korea_KOSDAQ_Low',\n",
    "               'Korea_KOSPI200_Close', 'Korea_KOSPI200_Open', 'Korea_KOSPI200_High', 'Korea_KOSPI200_Low',\n",
    "               'Korea_KOSPI_Close', 'Korea_KOSPI_Open', 'Korea_KOSPI_High', 'Korea_KOSPI_Low',\n",
    "               'UK_FTSE_Close', 'UK_FTSE_Open', 'UK_FTSE_High', 'UK_FTSE_Low', \n",
    "               'UK_FTSE250_Close', 'UK_FTSE250_Open', 'UK_FTSE250_High', 'UK_FTSE250_Low',\n",
    "               'UK_FTSEALL_Close', 'UK_FTSEALL_Open', 'UK_FTSEALL_High', 'UK_FTSEALL_Low']"
   ]
  },
  {
   "cell_type": "code",
   "execution_count": 7,
   "id": "2718b9b7",
   "metadata": {},
   "outputs": [],
   "source": [
    "\n",
    "Stock_Price[Stock_Price.columns.difference(['Date'])] = Stock_Price[Stock_Price.columns.difference(['Date'])].applymap(lambda x: float(x.replace(\",\",\"\")) if type(x)==str else x)"
   ]
  },
  {
   "cell_type": "code",
   "execution_count": 8,
   "id": "0086c5a8",
   "metadata": {},
   "outputs": [],
   "source": [
    "Data_name = [GDP, Treasury_rate, CPI, CCI, Unemployment_Rate, Stock_Price, Exchange_Rate]\n",
    "Total = pd.DataFrame(columns=['Date'])\n",
    "for data in Data_name:\n",
    "    Total = pd.merge(Total, data, how='outer',on='Date')"
   ]
  },
  {
   "cell_type": "code",
   "execution_count": 9,
   "id": "f29fd228",
   "metadata": {},
   "outputs": [],
   "source": [
    "# 시간 순 정렬, 기간에 맞는 데이터 추출\n",
    "Total = Total.sort_values(by=['Date'], axis=0)\n",
    "Total = Total.reset_index(drop=True)"
   ]
  },
  {
   "cell_type": "code",
   "execution_count": 12,
   "id": "0e10f5a5",
   "metadata": {},
   "outputs": [],
   "source": [
    "Total_inter = Total.copy()\n",
    "Total_inter[Total_inter.columns.difference(['Date'])] = Total_inter[Total_inter.columns.difference(['Date'])].interpolate(method='cubic',axis=0)\n",
    "Total_inter = Total_inter[(\"2013-01-01\" <= Total.Date) & (Total.Date < \"2022-12-31\")]"
   ]
  },
  {
   "cell_type": "code",
   "execution_count": 13,
   "id": "caa80828",
   "metadata": {},
   "outputs": [],
   "source": [
    "# and는 안되네....\n",
    "Total = Total[(\"2013-01-01\" <= Total.Date) & (Total.Date < \"2022-12-31\")]"
   ]
  },
  {
   "cell_type": "code",
   "execution_count": 14,
   "id": "9e6837eb",
   "metadata": {
    "scrolled": true,
    "tags": []
   },
   "outputs": [
    {
     "name": "stderr",
     "output_type": "stream",
     "text": [
      "C:\\Users\\whfhr\\AppData\\Local\\Temp\\ipykernel_15884\\2726510983.py:9: SettingWithCopyWarning: \n",
      "A value is trying to be set on a copy of a slice from a DataFrame\n",
      "\n",
      "See the caveats in the documentation: https://pandas.pydata.org/pandas-docs/stable/user_guide/indexing.html#returning-a-view-versus-a-copy\n",
      "  Total[column + \"_Ann\"][Total[[column]].dropna().index]=1\n",
      "C:\\Users\\whfhr\\AppData\\Local\\Temp\\ipykernel_15884\\2726510983.py:9: SettingWithCopyWarning: \n",
      "A value is trying to be set on a copy of a slice from a DataFrame\n",
      "\n",
      "See the caveats in the documentation: https://pandas.pydata.org/pandas-docs/stable/user_guide/indexing.html#returning-a-view-versus-a-copy\n",
      "  Total[column + \"_Ann\"][Total[[column]].dropna().index]=1\n",
      "C:\\Users\\whfhr\\AppData\\Local\\Temp\\ipykernel_15884\\2726510983.py:9: SettingWithCopyWarning: \n",
      "A value is trying to be set on a copy of a slice from a DataFrame\n",
      "\n",
      "See the caveats in the documentation: https://pandas.pydata.org/pandas-docs/stable/user_guide/indexing.html#returning-a-view-versus-a-copy\n",
      "  Total[column + \"_Ann\"][Total[[column]].dropna().index]=1\n",
      "C:\\Users\\whfhr\\AppData\\Local\\Temp\\ipykernel_15884\\2726510983.py:9: SettingWithCopyWarning: \n",
      "A value is trying to be set on a copy of a slice from a DataFrame\n",
      "\n",
      "See the caveats in the documentation: https://pandas.pydata.org/pandas-docs/stable/user_guide/indexing.html#returning-a-view-versus-a-copy\n",
      "  Total[column + \"_Ann\"][Total[[column]].dropna().index]=1\n",
      "C:\\Users\\whfhr\\AppData\\Local\\Temp\\ipykernel_15884\\2726510983.py:9: SettingWithCopyWarning: \n",
      "A value is trying to be set on a copy of a slice from a DataFrame\n",
      "\n",
      "See the caveats in the documentation: https://pandas.pydata.org/pandas-docs/stable/user_guide/indexing.html#returning-a-view-versus-a-copy\n",
      "  Total[column + \"_Ann\"][Total[[column]].dropna().index]=1\n",
      "C:\\Users\\whfhr\\AppData\\Local\\Temp\\ipykernel_15884\\2726510983.py:9: SettingWithCopyWarning: \n",
      "A value is trying to be set on a copy of a slice from a DataFrame\n",
      "\n",
      "See the caveats in the documentation: https://pandas.pydata.org/pandas-docs/stable/user_guide/indexing.html#returning-a-view-versus-a-copy\n",
      "  Total[column + \"_Ann\"][Total[[column]].dropna().index]=1\n",
      "C:\\Users\\whfhr\\AppData\\Local\\Temp\\ipykernel_15884\\2726510983.py:9: SettingWithCopyWarning: \n",
      "A value is trying to be set on a copy of a slice from a DataFrame\n",
      "\n",
      "See the caveats in the documentation: https://pandas.pydata.org/pandas-docs/stable/user_guide/indexing.html#returning-a-view-versus-a-copy\n",
      "  Total[column + \"_Ann\"][Total[[column]].dropna().index]=1\n",
      "C:\\Users\\whfhr\\AppData\\Local\\Temp\\ipykernel_15884\\2726510983.py:9: SettingWithCopyWarning: \n",
      "A value is trying to be set on a copy of a slice from a DataFrame\n",
      "\n",
      "See the caveats in the documentation: https://pandas.pydata.org/pandas-docs/stable/user_guide/indexing.html#returning-a-view-versus-a-copy\n",
      "  Total[column + \"_Ann\"][Total[[column]].dropna().index]=1\n",
      "C:\\Users\\whfhr\\AppData\\Local\\Temp\\ipykernel_15884\\2726510983.py:9: SettingWithCopyWarning: \n",
      "A value is trying to be set on a copy of a slice from a DataFrame\n",
      "\n",
      "See the caveats in the documentation: https://pandas.pydata.org/pandas-docs/stable/user_guide/indexing.html#returning-a-view-versus-a-copy\n",
      "  Total[column + \"_Ann\"][Total[[column]].dropna().index]=1\n",
      "C:\\Users\\whfhr\\AppData\\Local\\Temp\\ipykernel_15884\\2726510983.py:9: SettingWithCopyWarning: \n",
      "A value is trying to be set on a copy of a slice from a DataFrame\n",
      "\n",
      "See the caveats in the documentation: https://pandas.pydata.org/pandas-docs/stable/user_guide/indexing.html#returning-a-view-versus-a-copy\n",
      "  Total[column + \"_Ann\"][Total[[column]].dropna().index]=1\n",
      "C:\\Users\\whfhr\\AppData\\Local\\Temp\\ipykernel_15884\\2726510983.py:9: SettingWithCopyWarning: \n",
      "A value is trying to be set on a copy of a slice from a DataFrame\n",
      "\n",
      "See the caveats in the documentation: https://pandas.pydata.org/pandas-docs/stable/user_guide/indexing.html#returning-a-view-versus-a-copy\n",
      "  Total[column + \"_Ann\"][Total[[column]].dropna().index]=1\n",
      "C:\\Users\\whfhr\\AppData\\Local\\Temp\\ipykernel_15884\\2726510983.py:9: SettingWithCopyWarning: \n",
      "A value is trying to be set on a copy of a slice from a DataFrame\n",
      "\n",
      "See the caveats in the documentation: https://pandas.pydata.org/pandas-docs/stable/user_guide/indexing.html#returning-a-view-versus-a-copy\n",
      "  Total[column + \"_Ann\"][Total[[column]].dropna().index]=1\n",
      "C:\\Users\\whfhr\\AppData\\Local\\Temp\\ipykernel_15884\\2726510983.py:9: SettingWithCopyWarning: \n",
      "A value is trying to be set on a copy of a slice from a DataFrame\n",
      "\n",
      "See the caveats in the documentation: https://pandas.pydata.org/pandas-docs/stable/user_guide/indexing.html#returning-a-view-versus-a-copy\n",
      "  Total[column + \"_Ann\"][Total[[column]].dropna().index]=1\n",
      "C:\\Users\\whfhr\\AppData\\Local\\Temp\\ipykernel_15884\\2726510983.py:9: SettingWithCopyWarning: \n",
      "A value is trying to be set on a copy of a slice from a DataFrame\n",
      "\n",
      "See the caveats in the documentation: https://pandas.pydata.org/pandas-docs/stable/user_guide/indexing.html#returning-a-view-versus-a-copy\n",
      "  Total[column + \"_Ann\"][Total[[column]].dropna().index]=1\n",
      "C:\\Users\\whfhr\\AppData\\Local\\Temp\\ipykernel_15884\\2726510983.py:9: SettingWithCopyWarning: \n",
      "A value is trying to be set on a copy of a slice from a DataFrame\n",
      "\n",
      "See the caveats in the documentation: https://pandas.pydata.org/pandas-docs/stable/user_guide/indexing.html#returning-a-view-versus-a-copy\n",
      "  Total[column + \"_Ann\"][Total[[column]].dropna().index]=1\n",
      "C:\\Users\\whfhr\\AppData\\Local\\Temp\\ipykernel_15884\\2726510983.py:9: SettingWithCopyWarning: \n",
      "A value is trying to be set on a copy of a slice from a DataFrame\n",
      "\n",
      "See the caveats in the documentation: https://pandas.pydata.org/pandas-docs/stable/user_guide/indexing.html#returning-a-view-versus-a-copy\n",
      "  Total[column + \"_Ann\"][Total[[column]].dropna().index]=1\n",
      "C:\\Users\\whfhr\\AppData\\Local\\Temp\\ipykernel_15884\\2726510983.py:9: SettingWithCopyWarning: \n",
      "A value is trying to be set on a copy of a slice from a DataFrame\n",
      "\n",
      "See the caveats in the documentation: https://pandas.pydata.org/pandas-docs/stable/user_guide/indexing.html#returning-a-view-versus-a-copy\n",
      "  Total[column + \"_Ann\"][Total[[column]].dropna().index]=1\n",
      "C:\\Users\\whfhr\\AppData\\Local\\Temp\\ipykernel_15884\\2726510983.py:9: SettingWithCopyWarning: \n",
      "A value is trying to be set on a copy of a slice from a DataFrame\n",
      "\n",
      "See the caveats in the documentation: https://pandas.pydata.org/pandas-docs/stable/user_guide/indexing.html#returning-a-view-versus-a-copy\n",
      "  Total[column + \"_Ann\"][Total[[column]].dropna().index]=1\n",
      "C:\\Users\\whfhr\\AppData\\Local\\Temp\\ipykernel_15884\\2726510983.py:9: SettingWithCopyWarning: \n",
      "A value is trying to be set on a copy of a slice from a DataFrame\n",
      "\n",
      "See the caveats in the documentation: https://pandas.pydata.org/pandas-docs/stable/user_guide/indexing.html#returning-a-view-versus-a-copy\n",
      "  Total[column + \"_Ann\"][Total[[column]].dropna().index]=1\n",
      "C:\\Users\\whfhr\\AppData\\Local\\Temp\\ipykernel_15884\\2726510983.py:9: SettingWithCopyWarning: \n",
      "A value is trying to be set on a copy of a slice from a DataFrame\n",
      "\n",
      "See the caveats in the documentation: https://pandas.pydata.org/pandas-docs/stable/user_guide/indexing.html#returning-a-view-versus-a-copy\n",
      "  Total[column + \"_Ann\"][Total[[column]].dropna().index]=1\n"
     ]
    }
   ],
   "source": [
    "# 실업률, CPI, CCI, GDP의 발표날 columns\n",
    "columns = GDP.columns.difference([\"Date\"]).tolist() + CPI.columns.difference([\"Date\"]).tolist() \\\n",
    "    + CCI.columns.difference([\"Date\"]).tolist() + Unemployment_Rate.columns.difference([\"Date\"]).tolist()\n",
    "\n",
    "Ann = []\n",
    "for column in columns:\n",
    "    Ann += [column + \"_Ann\"]\n",
    "    Total[[column + \"_Ann\"]] = 0\n",
    "    Total[column + \"_Ann\"][Total[[column]].dropna().index]=1"
   ]
  },
  {
   "cell_type": "code",
   "execution_count": 15,
   "id": "e602c96d",
   "metadata": {},
   "outputs": [],
   "source": [
    "Total_inter[Ann] = Total[Ann]"
   ]
  },
  {
   "cell_type": "code",
   "execution_count": 16,
   "id": "fe0231ba",
   "metadata": {},
   "outputs": [
    {
     "data": {
      "text/plain": [
       "Date                  0\n",
       "China_SANGHAI_High    0\n",
       "China_SANGHAI_Low     0\n",
       "France_CAC_Close      0\n",
       "France_CAC_Open       0\n",
       "                     ..\n",
       "한국 2년_Change          0\n",
       "한국 3년_Price           0\n",
       "한국 3년_Open            0\n",
       "프랑스 3년_Low            0\n",
       "한국_Unemploy_Ann       0\n",
       "Length: 255, dtype: int64"
      ]
     },
     "execution_count": 16,
     "metadata": {},
     "output_type": "execute_result"
    }
   ],
   "source": [
    "Total_inter.isnull().sum().sort_values(axis=0)"
   ]
  },
  {
   "cell_type": "code",
   "execution_count": 19,
   "id": "256983ec",
   "metadata": {},
   "outputs": [],
   "source": [
    "Total_inter.to_csv(os.path.dirname(os.getcwd())+ \"\\\\total_data\\\\Total.csv\", index = False)"
   ]
  },
  {
   "cell_type": "code",
   "execution_count": null,
   "id": "2620ed45-0313-48e5-988e-f524164168df",
   "metadata": {},
   "outputs": [],
   "source": []
  },
  {
   "cell_type": "code",
   "execution_count": null,
   "id": "1493340b-3d59-4a75-80da-09ace8f11a16",
   "metadata": {},
   "outputs": [],
   "source": []
  }
 ],
 "metadata": {
  "kernelspec": {
   "display_name": "Python 3 (ipykernel)",
   "language": "python",
   "name": "python3"
  },
  "language_info": {
   "codemirror_mode": {
    "name": "ipython",
    "version": 3
   },
   "file_extension": ".py",
   "mimetype": "text/x-python",
   "name": "python",
   "nbconvert_exporter": "python",
   "pygments_lexer": "ipython3",
   "version": "3.9.13"
  }
 },
 "nbformat": 4,
 "nbformat_minor": 5
}
