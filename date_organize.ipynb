{
 "cells": [
  {
   "cell_type": "code",
   "execution_count": 2,
   "id": "3b8c03a2",
   "metadata": {},
   "outputs": [],
   "source": [
    "import pandas as pd\n",
    "import os\n",
    "import datetime"
   ]
  },
  {
   "cell_type": "code",
   "execution_count": 50,
   "id": "398a3124-fc6c-4367-bb81-cf44c869ee95",
   "metadata": {},
   "outputs": [
    {
     "data": {
      "text/plain": [
       "['GDP', '소비자물가지수', '소비자신뢰지수', '실업률']"
      ]
     },
     "execution_count": 50,
     "metadata": {},
     "output_type": "execute_result"
    }
   ],
   "source": [
    "folder_list = os.listdir(os.path.dirname(os.getcwd())+ \"\\\\total_data\")\n",
    "folder_list.remove(\"국채금리\")\n",
    "folder_list"
   ]
  },
  {
   "cell_type": "code",
   "execution_count": 54,
   "id": "73f907f8-9b69-40d4-95d1-ac0aeb1b308c",
   "metadata": {},
   "outputs": [],
   "source": [
    "foler_list = os.listdir(os.path.dirname(os.getcwd())+ \"\\\\total_data\")\n",
    "file_list = []\n",
    "for folder in folder_list:\n",
    "    f_list = os.listdir(os.path.dirname(os.getcwd())+ \"\\\\total_data\\\\\" + folder)\n",
    "    f_list = list(map(lambda x: os.path.dirname(os.getcwd())+ \"\\\\total_data\\\\\"+ folder + \"\\\\\" + x , f_list))\n",
    "    file_list.append(f_list)\n",
    "file_list = sum(file_list, [])\n",
    "for file in file_list:\n",
    "    data = pd.read_excel(file, header = None)\n",
    "    data.loc[:,0] = list(map(lambda x : datetime.datetime.strptime(x[0:13], \"%Y년 %m월 %d일\").strftime('%Y-%m-%d') if type(x) == str else (datetime.date(1899,12,30) + datetime.timedelta(int(x))).strftime('%Y-%m-%d'), data.loc[:,0]))\n",
    "    data.loc[:,1] = list(map(lambda x : x.strftime('%H:%M') if type(x) == datetime.time else x[0:5], data.loc[:,1]))\n",
    "    data.to_excel(file, index=False, header=False)"
   ]
  },
  {
   "cell_type": "code",
   "execution_count": 28,
   "id": "e6698c48-fd86-4d02-a7f2-c43e35788b0b",
   "metadata": {},
   "outputs": [],
   "source": [
    "file_list = os.listdir(os.path.dirname(os.getcwd())+ \"\\\\total_data\\\\환율\\\\\")\n",
    "for file in file_list:\n",
    "    data = pd.read_csv(dir + file)\n",
    "    data = data[[\"날짜\",\"종가\",\"시가\",\"고가\",\"저가\"]]\n",
    "    data.columns = [\"Date\",file[0:7] + \"_Close\", file[0:7] + \"_Open\", file[0:7] + \"_High\", file[0:7] + \"_Low\"]\n",
    "    data.Date = list(map(lambda x : datetime.datetime.strptime(x, \"%Y- %m- %d\").strftime('%Y-%m-%d'), data.Date))\n",
    "    data.to_csv(os.path.dirname(os.getcwd())+ \"\\\\total_data\\\\환율\\\\\" + file, index=False)"
   ]
  },
  {
   "cell_type": "code",
   "execution_count": null,
   "id": "de91c962",
   "metadata": {},
   "outputs": [],
   "source": [
    "file_list = os.listdir(os.path.dirname(os.getcwd())+ \"\\\\total_data\\\\국채금리\\\\\")\n",
    "for file in file_list:\n",
    "    data = pd.read_csv(os.path.dirname(os.getcwd())+ \"\\\\total_data\\\\국채금리\\\\\" + file)\n",
    "    data.iloc[:,0] = list(map(lambda x : datetime.datetime.strptime(x, \"%Y-%m-%d\").strftime('%Y-%m-%d'), data.iloc[:,0]))\n",
    "    data.to_csv(os.path.dirname(os.getcwd())+ \"\\\\total_data\\\\국채금리\\\\\" + file, index=False)"
   ]
  }
 ],
 "metadata": {
  "kernelspec": {
   "display_name": "Python 3 (ipykernel)",
   "language": "python",
   "name": "python3"
  },
  "language_info": {
   "codemirror_mode": {
    "name": "ipython",
    "version": 3
   },
   "file_extension": ".py",
   "mimetype": "text/x-python",
   "name": "python",
   "nbconvert_exporter": "python",
   "pygments_lexer": "ipython3",
   "version": "3.9.13"
  }
 },
 "nbformat": 4,
 "nbformat_minor": 5
}
